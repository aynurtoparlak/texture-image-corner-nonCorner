{
  "nbformat": 4,
  "nbformat_minor": 0,
  "metadata": {
    "colab": {
      "name": "CSE557_Project_1950044009_Aynur_Toparlak.ipynb",
      "provenance": [],
      "collapsed_sections": [
        "J9jZNtiWOpyV",
        "jGAGE6W5PBH6",
        "IWuBY_vkRKKZ",
        "O7ZTTQ5pkXTG",
        "lT06p5glRXfk",
        "wf9CedWoMVzQ",
        "Eq3tF6eOR1jS"
      ]
    },
    "kernelspec": {
      "display_name": "Python 3",
      "name": "python3"
    }
  },
  "cells": [
    {
      "cell_type": "markdown",
      "metadata": {
        "id": "f7gCiAdlfyzx"
      },
      "source": [
        "Aynur TOPARLAK 1950044009\n",
        "\n",
        "Data Mining Project"
      ]
    },
    {
      "cell_type": "markdown",
      "metadata": {
        "id": "J9jZNtiWOpyV"
      },
      "source": [
        "#### **Download many  large images  from the web. The images should contain lots of texture for corners.**"
      ]
    },
    {
      "cell_type": "code",
      "metadata": {
        "colab": {
          "base_uri": "https://localhost:8080/"
        },
        "id": "WsvINw4XvYZJ",
        "outputId": "0dc502b9-9081-4bbe-f3da-d95a332e263a"
      },
      "source": [
        "#download Image datalist from Google drive \n",
        "#corner and noncorner images crop from this dataset \n",
        "!pip install gdown\n",
        "!gdown https://drive.google.com/uc?id=1qDS4ZuSQJucUNzY0iXtRxTpjY5TuWEY5  #1 kalacak\n",
        "!gdown https://drive.google.com/uc?id=1qzMPqozgGC6NOwOwQJAnXT65jnFVNcLs  #2 kalacak\n",
        "!gdown https://drive.google.com/uc?id=1seWihKeemedXmUsDOa5vzgzniYt-9l_Q  #3 kalacak\n",
        "!gdown https://drive.google.com/uc?id=1YPsbT6_VMThrCrB_BVFswt7rRQbG-jWr  #4 kalacak\n",
        "!gdown https://drive.google.com/uc?id=1PO3oz31MqMFbjECXgNFpHXUrZrA-BnYt  #5 kalacak\n",
        "!gdown https://drive.google.com/uc?id=1r2NzOEpt9NC4KklDqoPrZEUYNOa7Q2HC  #6 kalacak\n",
        "!gdown https://drive.google.com/uc?id=1pTGVJxk4snLsDx9WvQrcWnvVvAc5P4bU  #7 kalacak\n",
        "!gdown https://drive.google.com/uc?id=1JXbPoG4x-ywoGK0HUKYlfjShDdV0ochu  #8 kalacak non corner\n",
        "!gdown https://drive.google.com/uc?id=1i6fw0y9CioGkHpGK5L9NLogg_ce7d6P3  #9 kalacak\n",
        "!gdown https://drive.google.com/uc?id=1QCXoCKRkcwc9sV2aE0wZFCePIIzpVrsZ  #10 kalacak\n",
        "!gdown https://drive.google.com/uc?id=1h396lw6rWi1_CtdPHgZLf-G44iu0qGV6  #11 kalacak sadece corner\n",
        "!gdown https://drive.google.com/uc?id=10RYVGDpNdyP3nXWKfkMNBt6q7b6gD_j2  #12 kalacak sadece corner\n",
        "!gdown https://drive.google.com/uc?id=1RBY7NiBlAqPv8x56cMAncFgbPGOlDmqP  #13 kalacak\n",
        "!gdown https://drive.google.com/uc?id=1TbT0vxImGoFvCzsAyJv_Iq9lghSzRguO  #14 kalacak\n",
        "!gdown https://drive.google.com/uc?id=1Gvi0bG0wx4uOJzN9fw0CpoNxV00S6aZC  #15 kalacak sadece corner\n",
        "!gdown https://drive.google.com/uc?id=1khvZVT2ciNXAvMz5mVfOLoKg_XGwbvhk  #16 kalacak sadece corner\n",
        "!gdown https://drive.google.com/uc?id=1zbnfpQ85WDXlI5cygSWAbwpC4r7s6ZPJ  #17 kalacak sadece corner\n",
        "!gdown https://drive.google.com/uc?id=18Tq64FU1s_TAM-rVfkKAsxGTkayc-2SR  #18 kalacak non corner\n",
        "!gdown https://drive.google.com/uc?id=1TUlOOuDwoSV4ZdIreW3m0XkQ3CfoYFpt  #19 kalacak non corner\n",
        "!gdown https://drive.google.com/uc?id=1Z0k-OGlMy-fLjZDs9lCVcmEZAAr7O20Q  #20 kalacak sadece non corner\n",
        "!gdown https://drive.google.com/uc?id=1Av-kiHJcuH6bK3cEx5-o9B_OCdjaJiuA  #21 kalacak sadece  corner\n",
        "!gdown https://drive.google.com/uc?id=1dCmIVYXfaMYU_GDWVQKI_XXXMewectLj  #22 kalacak non corner \n",
        "!gdown https://drive.google.com/uc?id=1-ljnoNVDkvNPT76HV3WhYRUWINHtZmMA  #23 kalacak sadece non corner \n",
        "!gdown https://drive.google.com/uc?id=1SWjTXDuAxnA5GhgWpZRrpzvSJrbJZXey  #26 kalacak non corner\n",
        "!gdown https://drive.google.com/uc?id=1AwYCzvN-lOzEHfe5D6UBKneTHKUS3yWW  #27 kalacak corner\n",
        "!gdown https://drive.google.com/uc?id=1VyO7NCa9Ya41mNGsJs9xmp0A_D-KG0AM  #28 kalacak  non corner\n",
        "!gdown https://drive.google.com/uc?id=1yudJH0Po4bmwuHqL0zRHxVGxi8d8bcFi  #29 kalacak  noncorner\n",
        "!gdown https://drive.google.com/uc?id=1FXyk8Rrsq1psSaoZRCkaxkpUA7c2AyzM  #30 kalacak sadece corner\n",
        "!gdown https://drive.google.com/uc?id=10M9CxQyHfulrYa2mqTZP8hXFzWbdnh9N  #31 kalacak sadece corner\n",
        "!gdown https://drive.google.com/uc?id=1T90J_AQHJOUca0hnmbpQ47bftYxCYS1K  #32 kalacak   corner\n",
        "!gdown https://drive.google.com/uc?id=15EiNrBfbT_Ro4EOEiV_f7pW11H2yXZYW  #33 kalacak   corner\n",
        "!gdown https://drive.google.com/uc?id=1-fifSOWR1y3p_0tqeort2NxmlX5l76Pm  #34 corner\n",
        "!gdown https://drive.google.com/uc?id=1HYvZwxmTTgZvgmtf23y6Pt1Xdm5c-EG-  #35 corner\n",
        "!gdown https://drive.google.com/uc?id=1bK5gdQNspUp-ZAOrUWbd2zOd5Ce_P2es   #36 corner\n",
        "!gdown https://drive.google.com/uc?id=1kGoz-8ZCHmEdv5nLtj64cSGExLswPjQL   #37corner\n",
        "!gdown https://drive.google.com/uc?id=1UfaT-xCJYnFswqGchQti5mTPwvqezLdH   #38corner\n",
        "!gdown https://drive.google.com/uc?id=12g9IHfXdYcdtv79O9uEGnyrxufVsupJw   #39 corner\n",
        "!gdown https://drive.google.com/uc?id=1U76v9BogKuqOqvElHWoeC0P3v-KaVqRG  #40 noncorner\n",
        "!gdown https://drive.google.com/uc?id=170ZO06x4lh83XWpWv_zJ4-ycMw71CAcn   #41 corner"
      ],
      "execution_count": null,
      "outputs": [
        {
          "output_type": "stream",
          "text": [
            "Requirement already satisfied: gdown in /usr/local/lib/python3.6/dist-packages (3.6.4)\n",
            "Requirement already satisfied: tqdm in /usr/local/lib/python3.6/dist-packages (from gdown) (4.41.1)\n",
            "Requirement already satisfied: six in /usr/local/lib/python3.6/dist-packages (from gdown) (1.15.0)\n",
            "Requirement already satisfied: requests in /usr/local/lib/python3.6/dist-packages (from gdown) (2.23.0)\n",
            "Requirement already satisfied: urllib3!=1.25.0,!=1.25.1,<1.26,>=1.21.1 in /usr/local/lib/python3.6/dist-packages (from requests->gdown) (1.24.3)\n",
            "Requirement already satisfied: chardet<4,>=3.0.2 in /usr/local/lib/python3.6/dist-packages (from requests->gdown) (3.0.4)\n",
            "Requirement already satisfied: certifi>=2017.4.17 in /usr/local/lib/python3.6/dist-packages (from requests->gdown) (2020.12.5)\n",
            "Requirement already satisfied: idna<3,>=2.5 in /usr/local/lib/python3.6/dist-packages (from requests->gdown) (2.10)\n",
            "Downloading...\n",
            "From: https://drive.google.com/uc?id=1qDS4ZuSQJucUNzY0iXtRxTpjY5TuWEY5\n",
            "To: /content/1.jpg\n",
            "100% 33.5k/33.5k [00:00<00:00, 24.6MB/s]\n",
            "Downloading...\n",
            "From: https://drive.google.com/uc?id=1qzMPqozgGC6NOwOwQJAnXT65jnFVNcLs\n",
            "To: /content/2.jpg\n",
            "100% 14.3k/14.3k [00:00<00:00, 12.8MB/s]\n",
            "Downloading...\n",
            "From: https://drive.google.com/uc?id=1seWihKeemedXmUsDOa5vzgzniYt-9l_Q\n",
            "To: /content/3.jpg\n",
            "100% 58.3k/58.3k [00:00<00:00, 31.1MB/s]\n",
            "Downloading...\n",
            "From: https://drive.google.com/uc?id=1YPsbT6_VMThrCrB_BVFswt7rRQbG-jWr\n",
            "To: /content/4.jpg\n",
            "100% 66.1k/66.1k [00:00<00:00, 24.3MB/s]\n",
            "Downloading...\n",
            "From: https://drive.google.com/uc?id=1PO3oz31MqMFbjECXgNFpHXUrZrA-BnYt\n",
            "To: /content/5.jpg\n",
            "100% 21.7k/21.7k [00:00<00:00, 8.08MB/s]\n",
            "Downloading...\n",
            "From: https://drive.google.com/uc?id=1r2NzOEpt9NC4KklDqoPrZEUYNOa7Q2HC\n",
            "To: /content/6.jpg\n",
            "100% 303k/303k [00:00<00:00, 85.4MB/s]\n",
            "Downloading...\n",
            "From: https://drive.google.com/uc?id=1pTGVJxk4snLsDx9WvQrcWnvVvAc5P4bU\n",
            "To: /content/7.jpg\n",
            "100% 12.5k/12.5k [00:00<00:00, 10.1MB/s]\n",
            "Downloading...\n",
            "From: https://drive.google.com/uc?id=1JXbPoG4x-ywoGK0HUKYlfjShDdV0ochu\n",
            "To: /content/8.jpg\n",
            "100% 57.5k/57.5k [00:00<00:00, 41.4MB/s]\n",
            "Downloading...\n",
            "From: https://drive.google.com/uc?id=1i6fw0y9CioGkHpGK5L9NLogg_ce7d6P3\n",
            "To: /content/9.jpg\n",
            "100% 8.79k/8.79k [00:00<00:00, 12.6MB/s]\n",
            "Downloading...\n",
            "From: https://drive.google.com/uc?id=1QCXoCKRkcwc9sV2aE0wZFCePIIzpVrsZ\n",
            "To: /content/10.jpg\n",
            "100% 43.5k/43.5k [00:00<00:00, 60.3MB/s]\n",
            "Downloading...\n",
            "From: https://drive.google.com/uc?id=1h396lw6rWi1_CtdPHgZLf-G44iu0qGV6\n",
            "To: /content/11.jpg\n",
            "100% 17.3k/17.3k [00:00<00:00, 6.36MB/s]\n",
            "Downloading...\n",
            "From: https://drive.google.com/uc?id=10RYVGDpNdyP3nXWKfkMNBt6q7b6gD_j2\n",
            "To: /content/12.jpg\n",
            "100% 15.7k/15.7k [00:00<00:00, 4.78MB/s]\n",
            "Downloading...\n",
            "From: https://drive.google.com/uc?id=1RBY7NiBlAqPv8x56cMAncFgbPGOlDmqP\n",
            "To: /content/13.jpg\n",
            "100% 6.58k/6.58k [00:00<00:00, 5.50MB/s]\n",
            "Downloading...\n",
            "From: https://drive.google.com/uc?id=1TbT0vxImGoFvCzsAyJv_Iq9lghSzRguO\n",
            "To: /content/14.jpg\n",
            "100% 45.3k/45.3k [00:00<00:00, 16.8MB/s]\n",
            "Downloading...\n",
            "From: https://drive.google.com/uc?id=1Gvi0bG0wx4uOJzN9fw0CpoNxV00S6aZC\n",
            "To: /content/15.jpg\n",
            "100% 37.2k/37.2k [00:00<00:00, 31.8MB/s]\n",
            "Downloading...\n",
            "From: https://drive.google.com/uc?id=1khvZVT2ciNXAvMz5mVfOLoKg_XGwbvhk\n",
            "To: /content/16.jpg\n",
            "100% 26.2k/26.2k [00:00<00:00, 39.1MB/s]\n",
            "Downloading...\n",
            "From: https://drive.google.com/uc?id=1zbnfpQ85WDXlI5cygSWAbwpC4r7s6ZPJ\n",
            "To: /content/17.jpg\n",
            "100% 15.6k/15.6k [00:00<00:00, 29.5MB/s]\n",
            "Downloading...\n",
            "From: https://drive.google.com/uc?id=18Tq64FU1s_TAM-rVfkKAsxGTkayc-2SR\n",
            "To: /content/18.jpg\n",
            "100% 139k/139k [00:00<00:00, 49.5MB/s]\n",
            "Downloading...\n",
            "From: https://drive.google.com/uc?id=1TUlOOuDwoSV4ZdIreW3m0XkQ3CfoYFpt\n",
            "To: /content/19.jpeg\n",
            "100% 38.4k/38.4k [00:00<00:00, 14.5MB/s]\n",
            "Downloading...\n",
            "From: https://drive.google.com/uc?id=1Z0k-OGlMy-fLjZDs9lCVcmEZAAr7O20Q\n",
            "To: /content/20.jpg\n",
            "100% 64.1k/64.1k [00:00<00:00, 35.7MB/s]\n",
            "Downloading...\n",
            "From: https://drive.google.com/uc?id=1Av-kiHJcuH6bK3cEx5-o9B_OCdjaJiuA\n",
            "To: /content/21.jpg\n",
            "100% 4.21k/4.21k [00:00<00:00, 7.36MB/s]\n",
            "Downloading...\n",
            "From: https://drive.google.com/uc?id=1dCmIVYXfaMYU_GDWVQKI_XXXMewectLj\n",
            "To: /content/22.jpg\n",
            "100% 175k/175k [00:00<00:00, 64.3MB/s]\n",
            "Downloading...\n",
            "From: https://drive.google.com/uc?id=1-ljnoNVDkvNPT76HV3WhYRUWINHtZmMA\n",
            "To: /content/23.jpg\n",
            "100% 27.0k/27.0k [00:00<00:00, 47.2MB/s]\n",
            "Downloading...\n",
            "From: https://drive.google.com/uc?id=1SWjTXDuAxnA5GhgWpZRrpzvSJrbJZXey\n",
            "To: /content/26.jpg\n",
            "100% 16.5k/16.5k [00:00<00:00, 25.2MB/s]\n",
            "Downloading...\n",
            "From: https://drive.google.com/uc?id=1AwYCzvN-lOzEHfe5D6UBKneTHKUS3yWW\n",
            "To: /content/27.jpg\n",
            "100% 20.3k/20.3k [00:00<00:00, 32.7MB/s]\n",
            "Downloading...\n",
            "From: https://drive.google.com/uc?id=1VyO7NCa9Ya41mNGsJs9xmp0A_D-KG0AM\n",
            "To: /content/28.jpg\n",
            "100% 13.2k/13.2k [00:00<00:00, 23.7MB/s]\n",
            "Downloading...\n",
            "From: https://drive.google.com/uc?id=1yudJH0Po4bmwuHqL0zRHxVGxi8d8bcFi\n",
            "To: /content/29.jpg\n",
            "100% 168k/168k [00:00<00:00, 47.6MB/s]\n",
            "Downloading...\n",
            "From: https://drive.google.com/uc?id=1FXyk8Rrsq1psSaoZRCkaxkpUA7c2AyzM\n",
            "To: /content/30.jpg\n",
            "100% 12.8k/12.8k [00:00<00:00, 9.95MB/s]\n",
            "Downloading...\n",
            "From: https://drive.google.com/uc?id=10M9CxQyHfulrYa2mqTZP8hXFzWbdnh9N\n",
            "To: /content/31.jpg\n",
            "100% 16.0k/16.0k [00:00<00:00, 12.6MB/s]\n",
            "Downloading...\n",
            "From: https://drive.google.com/uc?id=1T90J_AQHJOUca0hnmbpQ47bftYxCYS1K\n",
            "To: /content/32.jpg\n",
            "100% 3.20k/3.20k [00:00<00:00, 2.60MB/s]\n",
            "Downloading...\n",
            "From: https://drive.google.com/uc?id=15EiNrBfbT_Ro4EOEiV_f7pW11H2yXZYW\n",
            "To: /content/33.jpg\n",
            "100% 3.71k/3.71k [00:00<00:00, 6.41MB/s]\n",
            "Permission denied: https://drive.google.com/uc?id=1-fifSOWR1y3p_0tqeort2NxmlX5l76Pm\n",
            "Maybe you need to change permission over 'Anyone with the link'?\n",
            "Downloading...\n",
            "From: https://drive.google.com/uc?id=1HYvZwxmTTgZvgmtf23y6Pt1Xdm5c-EG-\n",
            "To: /content/35.jpg\n",
            "100% 274k/274k [00:00<00:00, 35.1MB/s]\n",
            "Downloading...\n",
            "From: https://drive.google.com/uc?id=1bK5gdQNspUp-ZAOrUWbd2zOd5Ce_P2es\n",
            "To: /content/36.jpg\n",
            "100% 16.2k/16.2k [00:00<00:00, 29.4MB/s]\n",
            "Downloading...\n",
            "From: https://drive.google.com/uc?id=1kGoz-8ZCHmEdv5nLtj64cSGExLswPjQL\n",
            "To: /content/37.jpg\n",
            "100% 13.4k/13.4k [00:00<00:00, 24.4MB/s]\n",
            "Downloading...\n",
            "From: https://drive.google.com/uc?id=1UfaT-xCJYnFswqGchQti5mTPwvqezLdH\n",
            "To: /content/38.jpg\n",
            "100% 211k/211k [00:00<00:00, 79.0MB/s]\n",
            "Downloading...\n",
            "From: https://drive.google.com/uc?id=12g9IHfXdYcdtv79O9uEGnyrxufVsupJw\n",
            "To: /content/39.jpg\n",
            "100% 66.4k/66.4k [00:00<00:00, 30.3MB/s]\n",
            "Downloading...\n",
            "From: https://drive.google.com/uc?id=1U76v9BogKuqOqvElHWoeC0P3v-KaVqRG\n",
            "To: /content/40.jpg\n",
            "100% 13.9k/13.9k [00:00<00:00, 11.9MB/s]\n",
            "Downloading...\n",
            "From: https://drive.google.com/uc?id=170ZO06x4lh83XWpWv_zJ4-ycMw71CAcn\n",
            "To: /content/41.jpg\n",
            "100% 13.0k/13.0k [00:00<00:00, 11.1MB/s]\n"
          ],
          "name": "stdout"
        }
      ]
    },
    {
      "cell_type": "code",
      "metadata": {
        "colab": {
          "base_uri": "https://localhost:8080/"
        },
        "id": "laXWDFKbhpJZ",
        "outputId": "5d07d1c1-550b-4c70-ab37-5024da38685f"
      },
      "source": [
        "import numpy as np \n",
        "import cv2 \n",
        "from matplotlib import pyplot as plt \n",
        "from PIL import Image  \n",
        "  \n",
        "# read the image \n",
        "img = cv2.imread('7.jpg') \n",
        "  \n",
        "# convert image to gray scale image \n",
        "gray = cv2.cvtColor(img, cv2.COLOR_BGR2GRAY) \n",
        "img_rotate_90_counterclockwise = cv2.rotate(gray, cv2.ROTATE_90_COUNTERCLOCKWISE)\n",
        "  \n",
        "# detect corners with the goodFeaturesToTrack function. \n",
        "corners = cv2.goodFeaturesToTrack(gray, 27, 0.01, 10) \n",
        "corners = np.int0(corners) \n",
        "  \n",
        "# we iterate through each corner,  \n",
        "# making a circle at each point that we think is a corner. \n",
        "for i in corners: \n",
        "    x, y = i.ravel() \n",
        "    cv2.circle(img, (x, y), 3, 255, -1) \n",
        "  \n",
        "from google.colab.patches import cv2_imshow\n",
        "\n",
        "cv2_imshow(img_rotate_90_counterclockwise) "
      ],
      "execution_count": null,
      "outputs": [
        {
          "output_type": "display_data",
          "data": {
            "image/png": "[encoded data removed]",
            "text/plain": [
              "<PIL.Image.Image image mode=L size=183x275 at 0x7FA0050F8AC8>"
            ]
          },
          "metadata": {
            "tags": []
          }
        }
      ]
    },
    {
      "cell_type": "code",
      "metadata": {
        "id": "_qlqAIW0DNXd"
      },
      "source": [
        "from PIL import Image\n",
        "from google.colab.patches import cv2_imshow\n",
        "import cv2\n",
        "import numpy as np\n",
        "from skimage import feature\n",
        "from sklearn.utils import shuffle\n",
        "\n",
        "%matplotlib inline\n",
        "import matplotlib.pyplot as plt\n",
        "from sklearn.model_selection import cross_val_score\n",
        "from sklearn import svm\n",
        "from sklearn import metrics\n",
        "from sklearn.metrics import roc_curve, auc\n",
        "from sklearn.model_selection import train_test_split\n",
        "\n",
        "from sklearn.decomposition import PCA\n",
        "from sklearn.ensemble import RandomForestClassifier"
      ],
      "execution_count": null,
      "outputs": []
    },
    {
      "cell_type": "markdown",
      "metadata": {
        "id": "jGAGE6W5PBH6"
      },
      "source": [
        "####  **Use OpenCV Harris corner detector to detect corner. Crop corner image and NonCorner image helper functions**\n",
        "\n",
        "      \n",
        "       CornerList          : Function for getting corners as list.\n",
        "\n",
        "       CornerImagesList    : Function for cropping images with corner.\n",
        "\n",
        "       NonCornerImagesList : Function for cropping images without corner."
      ]
    },
    {
      "cell_type": "code",
      "metadata": {
        "id": "_BjoklNZDJDX"
      },
      "source": [
        "from sklearn.preprocessing import StandardScaler\n",
        "\n",
        "def PCAcalc(X):\n",
        "  X_scaled = StandardScaler().fit_transform(X)\n",
        "  features = X_scaled.T\n",
        "  cov_matrix = np.cov(features)\n",
        "  values, vectors = np.linalg.eig(cov_matrix)\n",
        "  return vectors\n",
        "\n",
        "#crop from image with given ccordinats and saved to given path\n",
        "def crop(image_path, coords, saved_location):\n",
        "  image_obj = Image.open(image_path)\n",
        "  cropped_image = image_obj.crop(coords)\n",
        "  cropped_image.save(saved_location)\n",
        "\n",
        "#get corner list of given image as list\n",
        "def cornersList(image_path):\n",
        "  img = cv2.imread(image_path)\n",
        "  gray = cv2.cvtColor(img,cv2.COLOR_BGR2GRAY)\n",
        "  gray = np.float32(gray)\n",
        "  dst = cv2.cornerHarris(gray,2,3,0.04)\n",
        "  #result is dilated for marking the corners, not important\n",
        "  dst = cv2.dilate(dst,None)\n",
        "  # Threshold for an optimal value, it may vary depending on the image.\n",
        "  img[dst>0.01*dst.max()]=[0,0,255]\n",
        "  ret, dst = cv2.threshold(dst,0.1*dst.max(),255,0)\n",
        "  dst = np.uint8(dst)\n",
        "  ret, labels, stats, centroids = cv2.connectedComponentsWithStats(dst)\n",
        "  criteria = (cv2.TERM_CRITERIA_EPS + cv2.TERM_CRITERIA_MAX_ITER, 100, 0.001)\n",
        "  corners = cv2.cornerSubPix(gray,np.float32(centroids),(5,5),(-1,-1),criteria)\n",
        "  return corners\n",
        "  \n",
        "#crop Corner images that is include only one corner, from imagedataset, and create corner imaga dataset  \n",
        "def cornerImagesList(image_path):\n",
        "  imageList = []\n",
        "  img = cv2.imread(image_path)\n",
        "  widthIm = img.shape[0]\n",
        "  heightIm = img.shape[1]\n",
        "\n",
        "  corners= cornersList(image_path)\n",
        "  for point in corners:\n",
        "    width=int(np.random.randint(low=5, high=9, size=1))  \n",
        "    x = int(point[0])\n",
        "    y = int(point[1])  \n",
        "    if x-width>0 and y-width>0 and x+width<widthIm and y+width<heightIm :\n",
        "      crop(image_path, (x-width, y-width, x+width, y+width ), 'test.jpg')\n",
        "      imageList.append(cv2.imread('test.jpg'))\n",
        "  return imageList\n",
        "\n",
        "#crop nonCorner images that is include only one corner, from imagedataset, and create nonCorner imaga dataset\n",
        "def nonCornerImagesList(image_path):\n",
        "  nonCImageList = []\n",
        "  im = cv2.imread(image_path)\n",
        "  xSize,ySize,rgb = im.shape\n",
        "  corners= cornersList(image_path)\n",
        "  x=0  \n",
        "  cropable= True\n",
        "  while x < xSize:\n",
        "    y=0\n",
        "    while y < ySize:\n",
        "      cropable= True\n",
        "      for point in corners:\n",
        "        xp = int(point[0])\n",
        "        yp = int(point[1])\n",
        "        #check if image area include any corner\n",
        "        if ((x < xp  and  xp < x+10 )and (y < yp and  yp < y+10)) :\n",
        "          cropable= False\n",
        "      #if image area does not include any corner then it is cropped as noncorner\n",
        "      if cropable==True and x+10 < xSize and y+10 < ySize:\n",
        "        crop(image_path, (x, y, x+10, y+10 ), 'test.jpg')\n",
        "        nonCImageList.append(cv2.imread('test.jpg'))    \n",
        "      y+=40 \n",
        "    x+=40\n",
        "  return nonCImageList\n"
      ],
      "execution_count": null,
      "outputs": []
    },
    {
      "cell_type": "markdown",
      "metadata": {
        "id": "IWuBY_vkRKKZ"
      },
      "source": [
        "#### **Create dataset with HOG descriptor and sobel filter** \n",
        "\n",
        "Sobel filter as gradient operator applied to all images."
      ]
    },
    {
      "cell_type": "code",
      "metadata": {
        "colab": {
          "base_uri": "https://localhost:8080/"
        },
        "id": "QpFQgMy4pL1n",
        "outputId": "8a86e60c-bae7-4478-9950-f4b58d860d2a"
      },
      "source": [
        "#hog\n",
        "#corner image preprocessing\n",
        "#label of corner image 1\n",
        "#asıl dataset\n",
        "#strList=[\"1.jpg\",\"2.jpg\",\"3.jpg\",\"4.jpg\",\"5.jpg\",\"6.jpg\",\"7.jpg\",\"9.jpg\",\"11.jpg\",\"12.jpg\",\"13.jpg\",\"14.jpg\",\"15.jpg\",\"16.jpg\",\"17.jpg\",\"21.jpg\",\"27.jpg\",\"30.jpg\",\"31.jpg\"\n",
        " #               ,\"32.jpg\",\"33.jpg\",\"35.jpg\",\"36.jpg\",\"37.jpg\",\"38.jpg\",\"39.jpg\",\"41.jpg\"]\n",
        "\n",
        "strList=[\"1.jpg\",\"2.jpg\",\"3.jpg\",\"4.jpg\",\"7.jpg\",\"9.jpg\",\"12.jpg\",\"14.jpg\",\"15.jpg\",\"16.jpg\",\"21.jpg\",\"27.jpg\",\"31.jpg\",\"32.jpg\",\"33.jpg\",\"36.jpg\",\"39.jpg\"]\n",
        "\n",
        "imageList =[]\n",
        "\n",
        "for im in (strList):\n",
        "  CIList=cornerImagesList(im)\n",
        "  imageList=imageList + CIList\n",
        "  \n",
        "imageCorHog = []\n",
        "imageCorLabel = []\n",
        "\n",
        "#inti=0\n",
        "for im in (imageList):\n",
        "  resized = cv2.resize(im, (14,14))\n",
        "  #sobel filter for X\n",
        "  sobelx64f = cv2.Sobel(resized,cv2.CV_64F,1,0,ksize=5)\n",
        "  abs_sobel64f = np.absolute(sobelx64f)\n",
        "  sobel_8u = np.uint8(abs_sobel64f)\n",
        "\n",
        "  H = feature.hog(sobel_8u, orientations=9, pixels_per_cell=(3, 3),\n",
        "\t\tcells_per_block=(2, 2), transform_sqrt=True, block_norm=\"L1\")\n",
        "  #print(feature.hog(im, orientations=9, pixels_per_cell=(3, 3),cells_per_block=(2, 2), transform_sqrt=True, block_norm=\"L1\"))\n",
        "  #print(H.shape)\n",
        "  #if(inti==0):\n",
        "  #  break\n",
        "  imageCorHog.append(H)\n",
        "  imageCorLabel.append(1)\n",
        "print(len(imageCorHog)) \n",
        "print(len(imageCorLabel))  "
      ],
      "execution_count": null,
      "outputs": [
        {
          "output_type": "stream",
          "text": [
            "1360\n",
            "1360\n"
          ],
          "name": "stdout"
        }
      ]
    },
    {
      "cell_type": "code",
      "metadata": {
        "colab": {
          "base_uri": "https://localhost:8080/"
        },
        "id": "gYdpzoyOnC1n",
        "outputId": "8614cd83-92a7-42a3-f35c-d2675dd40285"
      },
      "source": [
        "#hog\n",
        "#NonCorner image preprocessing\n",
        "#label of nonCorner image 0\n",
        "#asıl dataset\n",
        "#strList=[\"8.jpg\",\"10.jpg\",\"13.jpg\",\"18.jpg\",\"20.jpg\",\"22.jpg\",\"23.jpg\",\"26.jpg\",\"28.jpg\",\"29.jpg\",\"40.jpg\"]\n",
        "strList=[\"8.jpg\",\"13.jpg\",\"18.jpg\",\"26.jpg\",\"29.jpg\",\"40.jpg\"]\n",
        "imageList =[]\n",
        "\n",
        "for im in (strList):\n",
        "  CIList=nonCornerImagesList(im)\n",
        "  imageList=imageList + CIList\n",
        "\n",
        "imageNCorHog = []\n",
        "imageNCorLabel = []\n",
        "\n",
        "for im in (imageList):\n",
        "  resized = cv2.resize(im, (14,14))\n",
        "  #sobel filter for X\n",
        "  sobelx64f = cv2.Sobel(resized,cv2.CV_64F,1,0,ksize=5)\n",
        "  abs_sobel64f = np.absolute(sobelx64f)\n",
        "  sobel_8u = np.uint8(abs_sobel64f)\n",
        "  H = feature.hog(sobel_8u, orientations=9, pixels_per_cell=(3, 3),\n",
        "\t\tcells_per_block=(2, 2), transform_sqrt=True, block_norm=\"L1\")\n",
        "  imageNCorHog.append(H.reshape(H.shape[0]))\n",
        "  imageNCorLabel.append(0)\n",
        "\n",
        "print(len(imageNCorHog)) \n",
        "print(len(imageNCorLabel))  "
      ],
      "execution_count": null,
      "outputs": [
        {
          "output_type": "stream",
          "text": [
            "1281\n",
            "1281\n"
          ],
          "name": "stdout"
        }
      ]
    },
    {
      "cell_type": "markdown",
      "metadata": {
        "id": "O7ZTTQ5pkXTG"
      },
      "source": [
        "#### **Create dataset with Photo vector** "
      ]
    },
    {
      "cell_type": "code",
      "metadata": {
        "colab": {
          "base_uri": "https://localhost:8080/"
        },
        "id": "pPNICE5Sf0dP",
        "outputId": "3b969d6f-9864-4b10-d32f-46f1a952e1ad"
      },
      "source": [
        "# not hog\n",
        "#corner image preprocessing\n",
        "#label of corner image 1\n",
        "#asıl dataset\n",
        "strList=[\"1.jpg\",\"2.jpg\",\"3.jpg\",\"4.jpg\",\"5.jpg\",\"6.jpg\",\"7.jpg\",\"9.jpg\",\"11.jpg\",\"12.jpg\",\"13.jpg\",\"14.jpg\",\"15.jpg\",\"16.jpg\",\"17.jpg\",\"21.jpg\",\"27.jpg\",\"30.jpg\",\"31.jpg\"\n",
        "               ,\"32.jpg\",\"33.jpg\",\"35.jpg\",\"36.jpg\",\"37.jpg\",\"38.jpg\",\"39.jpg\",\"41.jpg\"]\n",
        "\n",
        "#strList=[\"1.jpg\",\"2.jpg\",\"3.jpg\",\"4.jpg\",\"7.jpg\",\"9.jpg\",\"12.jpg\",\"14.jpg\",\"15.jpg\",\"16.jpg\",\"21.jpg\",\"27.jpg\",\"31.jpg\",\"32.jpg\",\"33.jpg\",\"36.jpg\",\"39.jpg\"]\n",
        "\n",
        "imageList =[]\n",
        "\n",
        "for im in (strList):\n",
        "  CIList=cornerImagesList(im)\n",
        "  imageList=imageList + CIList\n",
        "  \n",
        "imageCorHog = []\n",
        "imageCorLabel = []\n",
        "\n",
        "#inti=0\n",
        "for im in (imageList):\n",
        "  resized = cv2.resize(im, (7,7))\n",
        "  #sobel filter for X\n",
        "  arr = resized.reshape(-1)\n",
        "  imageCorHog.append(arr)\n",
        "  imageCorLabel.append(1)\n",
        "print(len(imageCorHog)) \n",
        "print(len(imageCorLabel))  "
      ],
      "execution_count": null,
      "outputs": [
        {
          "output_type": "stream",
          "text": [
            "1888\n",
            "1888\n"
          ],
          "name": "stdout"
        }
      ]
    },
    {
      "cell_type": "code",
      "metadata": {
        "colab": {
          "base_uri": "https://localhost:8080/",
          "height": 387
        },
        "id": "6nG7ipEB5TVE",
        "outputId": "ac7601b3-31c5-4b1c-a14e-223cf94fc435"
      },
      "source": [
        "#not hog\n",
        "#NonCorner image preprocessing\n",
        "#label of nonCorner image 0\n",
        "#asıl dataset\n",
        "strList=[\"8.jpg\",\"10.jpg\",\"13.jpg\",\"18.jpg\",\"20.jpg\",\"22.jpg\",\"23.jpg\",\"26.jpg\",\"28.jpg\",\"29.jpg\",\"40.jpg\"]\n",
        "#strList=[\"8.jpg\",\"13.jpg\",\"18.jpg\",\"26.jpg\",\"29.jpg\",\"40.jpg\"]\n",
        "imageList =[]\n",
        "\n",
        "for im in (strList):\n",
        "  CIList=nonCornerImagesList(im)\n",
        "  imageList=imageList + CIList\n",
        "\n",
        "imageNCorHog = []\n",
        "imageNCorLabel = []\n",
        "\n",
        "for im in (imageList):\n",
        "  resized = cv2.resize(im, (7,7))\n",
        "  #sobel filter for X\n",
        "  arr = resized.reshape(-1)\n",
        "  imageNCorHog.append(arr)\n",
        "  imageNCorLabel.append(0)\n",
        "\n",
        "print(len(imageNCorHog)) \n",
        "print(len(imageNCorLabel))  "
      ],
      "execution_count": null,
      "outputs": [
        {
          "output_type": "error",
          "ename": "KeyboardInterrupt",
          "evalue": "ignored",
          "traceback": [
            "\u001b[0;31m---------------------------------------------------------------------------\u001b[0m",
            "\u001b[0;31mKeyboardInterrupt\u001b[0m                         Traceback (most recent call last)",
            "\u001b[0;32m<ipython-input-51-9d94d7970320>\u001b[0m in \u001b[0;36m<module>\u001b[0;34m()\u001b[0m\n\u001b[1;32m      8\u001b[0m \u001b[0;34m\u001b[0m\u001b[0m\n\u001b[1;32m      9\u001b[0m \u001b[0;32mfor\u001b[0m \u001b[0mim\u001b[0m \u001b[0;32min\u001b[0m \u001b[0;34m(\u001b[0m\u001b[0mstrList\u001b[0m\u001b[0;34m)\u001b[0m\u001b[0;34m:\u001b[0m\u001b[0;34m\u001b[0m\u001b[0;34m\u001b[0m\u001b[0m\n\u001b[0;32m---> 10\u001b[0;31m   \u001b[0mCIList\u001b[0m\u001b[0;34m=\u001b[0m\u001b[0mnonCornerImagesList\u001b[0m\u001b[0;34m(\u001b[0m\u001b[0mim\u001b[0m\u001b[0;34m)\u001b[0m\u001b[0;34m\u001b[0m\u001b[0;34m\u001b[0m\u001b[0m\n\u001b[0m\u001b[1;32m     11\u001b[0m   \u001b[0mimageList\u001b[0m\u001b[0;34m=\u001b[0m\u001b[0mimageList\u001b[0m \u001b[0;34m+\u001b[0m \u001b[0mCIList\u001b[0m\u001b[0;34m\u001b[0m\u001b[0;34m\u001b[0m\u001b[0m\n\u001b[1;32m     12\u001b[0m \u001b[0;34m\u001b[0m\u001b[0m\n",
            "\u001b[0;32m<ipython-input-46-23da4c242ae8>\u001b[0m in \u001b[0;36mnonCornerImagesList\u001b[0;34m(image_path)\u001b[0m\n\u001b[1;32m     68\u001b[0m       \u001b[0;31m#if image area does not include any corner then it is cropped as noncorner\u001b[0m\u001b[0;34m\u001b[0m\u001b[0;34m\u001b[0m\u001b[0;34m\u001b[0m\u001b[0m\n\u001b[1;32m     69\u001b[0m       \u001b[0;32mif\u001b[0m \u001b[0mcropable\u001b[0m\u001b[0;34m==\u001b[0m\u001b[0;32mTrue\u001b[0m \u001b[0;32mand\u001b[0m \u001b[0mx\u001b[0m\u001b[0;34m+\u001b[0m\u001b[0;36m10\u001b[0m \u001b[0;34m<\u001b[0m \u001b[0mxSize\u001b[0m \u001b[0;32mand\u001b[0m \u001b[0my\u001b[0m\u001b[0;34m+\u001b[0m\u001b[0;36m10\u001b[0m \u001b[0;34m<\u001b[0m \u001b[0mySize\u001b[0m\u001b[0;34m:\u001b[0m\u001b[0;34m\u001b[0m\u001b[0;34m\u001b[0m\u001b[0m\n\u001b[0;32m---> 70\u001b[0;31m         \u001b[0mcrop\u001b[0m\u001b[0;34m(\u001b[0m\u001b[0mimage_path\u001b[0m\u001b[0;34m,\u001b[0m \u001b[0;34m(\u001b[0m\u001b[0mx\u001b[0m\u001b[0;34m,\u001b[0m \u001b[0my\u001b[0m\u001b[0;34m,\u001b[0m \u001b[0mx\u001b[0m\u001b[0;34m+\u001b[0m\u001b[0;36m10\u001b[0m\u001b[0;34m,\u001b[0m \u001b[0my\u001b[0m\u001b[0;34m+\u001b[0m\u001b[0;36m10\u001b[0m \u001b[0;34m)\u001b[0m\u001b[0;34m,\u001b[0m \u001b[0;34m'test.jpg'\u001b[0m\u001b[0;34m)\u001b[0m\u001b[0;34m\u001b[0m\u001b[0;34m\u001b[0m\u001b[0m\n\u001b[0m\u001b[1;32m     71\u001b[0m         \u001b[0mnonCImageList\u001b[0m\u001b[0;34m.\u001b[0m\u001b[0mappend\u001b[0m\u001b[0;34m(\u001b[0m\u001b[0mcv2\u001b[0m\u001b[0;34m.\u001b[0m\u001b[0mimread\u001b[0m\u001b[0;34m(\u001b[0m\u001b[0;34m'test.jpg'\u001b[0m\u001b[0;34m)\u001b[0m\u001b[0;34m)\u001b[0m\u001b[0;34m\u001b[0m\u001b[0;34m\u001b[0m\u001b[0m\n\u001b[1;32m     72\u001b[0m       \u001b[0my\u001b[0m\u001b[0;34m+=\u001b[0m\u001b[0;36m40\u001b[0m\u001b[0;34m\u001b[0m\u001b[0;34m\u001b[0m\u001b[0m\n",
            "\u001b[0;32m<ipython-input-46-23da4c242ae8>\u001b[0m in \u001b[0;36mcrop\u001b[0;34m(image_path, coords, saved_location)\u001b[0m\n\u001b[1;32m     11\u001b[0m \u001b[0;32mdef\u001b[0m \u001b[0mcrop\u001b[0m\u001b[0;34m(\u001b[0m\u001b[0mimage_path\u001b[0m\u001b[0;34m,\u001b[0m \u001b[0mcoords\u001b[0m\u001b[0;34m,\u001b[0m \u001b[0msaved_location\u001b[0m\u001b[0;34m)\u001b[0m\u001b[0;34m:\u001b[0m\u001b[0;34m\u001b[0m\u001b[0;34m\u001b[0m\u001b[0m\n\u001b[1;32m     12\u001b[0m   \u001b[0mimage_obj\u001b[0m \u001b[0;34m=\u001b[0m \u001b[0mImage\u001b[0m\u001b[0;34m.\u001b[0m\u001b[0mopen\u001b[0m\u001b[0;34m(\u001b[0m\u001b[0mimage_path\u001b[0m\u001b[0;34m)\u001b[0m\u001b[0;34m\u001b[0m\u001b[0;34m\u001b[0m\u001b[0m\n\u001b[0;32m---> 13\u001b[0;31m   \u001b[0mcropped_image\u001b[0m \u001b[0;34m=\u001b[0m \u001b[0mimage_obj\u001b[0m\u001b[0;34m.\u001b[0m\u001b[0mcrop\u001b[0m\u001b[0;34m(\u001b[0m\u001b[0mcoords\u001b[0m\u001b[0;34m)\u001b[0m\u001b[0;34m\u001b[0m\u001b[0;34m\u001b[0m\u001b[0m\n\u001b[0m\u001b[1;32m     14\u001b[0m   \u001b[0mcropped_image\u001b[0m\u001b[0;34m.\u001b[0m\u001b[0msave\u001b[0m\u001b[0;34m(\u001b[0m\u001b[0msaved_location\u001b[0m\u001b[0;34m)\u001b[0m\u001b[0;34m\u001b[0m\u001b[0;34m\u001b[0m\u001b[0m\n\u001b[1;32m     15\u001b[0m \u001b[0;34m\u001b[0m\u001b[0m\n",
            "\u001b[0;32m/usr/local/lib/python3.6/dist-packages/PIL/Image.py\u001b[0m in \u001b[0;36mcrop\u001b[0;34m(self, box)\u001b[0m\n\u001b[1;32m   1103\u001b[0m             \u001b[0;32mreturn\u001b[0m \u001b[0mself\u001b[0m\u001b[0;34m.\u001b[0m\u001b[0mcopy\u001b[0m\u001b[0;34m(\u001b[0m\u001b[0;34m)\u001b[0m\u001b[0;34m\u001b[0m\u001b[0;34m\u001b[0m\u001b[0m\n\u001b[1;32m   1104\u001b[0m \u001b[0;34m\u001b[0m\u001b[0m\n\u001b[0;32m-> 1105\u001b[0;31m         \u001b[0mself\u001b[0m\u001b[0;34m.\u001b[0m\u001b[0mload\u001b[0m\u001b[0;34m(\u001b[0m\u001b[0;34m)\u001b[0m\u001b[0;34m\u001b[0m\u001b[0;34m\u001b[0m\u001b[0m\n\u001b[0m\u001b[1;32m   1106\u001b[0m         \u001b[0;32mreturn\u001b[0m \u001b[0mself\u001b[0m\u001b[0;34m.\u001b[0m\u001b[0m_new\u001b[0m\u001b[0;34m(\u001b[0m\u001b[0mself\u001b[0m\u001b[0;34m.\u001b[0m\u001b[0m_crop\u001b[0m\u001b[0;34m(\u001b[0m\u001b[0mself\u001b[0m\u001b[0;34m.\u001b[0m\u001b[0mim\u001b[0m\u001b[0;34m,\u001b[0m \u001b[0mbox\u001b[0m\u001b[0;34m)\u001b[0m\u001b[0;34m)\u001b[0m\u001b[0;34m\u001b[0m\u001b[0;34m\u001b[0m\u001b[0m\n\u001b[1;32m   1107\u001b[0m \u001b[0;34m\u001b[0m\u001b[0m\n",
            "\u001b[0;32m/usr/local/lib/python3.6/dist-packages/PIL/ImageFile.py\u001b[0m in \u001b[0;36mload\u001b[0;34m(self)\u001b[0m\n\u001b[1;32m    263\u001b[0m \u001b[0;34m\u001b[0m\u001b[0m\n\u001b[1;32m    264\u001b[0m         \u001b[0;32mif\u001b[0m \u001b[0mself\u001b[0m\u001b[0;34m.\u001b[0m\u001b[0m_exclusive_fp\u001b[0m \u001b[0;32mand\u001b[0m \u001b[0mself\u001b[0m\u001b[0;34m.\u001b[0m\u001b[0m_close_exclusive_fp_after_loading\u001b[0m\u001b[0;34m:\u001b[0m\u001b[0;34m\u001b[0m\u001b[0;34m\u001b[0m\u001b[0m\n\u001b[0;32m--> 265\u001b[0;31m             \u001b[0mself\u001b[0m\u001b[0;34m.\u001b[0m\u001b[0mfp\u001b[0m\u001b[0;34m.\u001b[0m\u001b[0mclose\u001b[0m\u001b[0;34m(\u001b[0m\u001b[0;34m)\u001b[0m\u001b[0;34m\u001b[0m\u001b[0;34m\u001b[0m\u001b[0m\n\u001b[0m\u001b[1;32m    266\u001b[0m         \u001b[0mself\u001b[0m\u001b[0;34m.\u001b[0m\u001b[0mfp\u001b[0m \u001b[0;34m=\u001b[0m \u001b[0;32mNone\u001b[0m\u001b[0;34m\u001b[0m\u001b[0;34m\u001b[0m\u001b[0m\n\u001b[1;32m    267\u001b[0m \u001b[0;34m\u001b[0m\u001b[0m\n",
            "\u001b[0;31mKeyboardInterrupt\u001b[0m: "
          ]
        }
      ]
    },
    {
      "cell_type": "markdown",
      "metadata": {
        "id": "lT06p5glRXfk"
      },
      "source": [
        "#### **Before train** "
      ]
    },
    {
      "cell_type": "code",
      "metadata": {
        "id": "_5Idl-T7osJb"
      },
      "source": [
        "images=imageNCorHog+imageCorHog\n",
        "labelImages=imageNCorLabel+imageCorLabel"
      ],
      "execution_count": null,
      "outputs": []
    },
    {
      "cell_type": "code",
      "metadata": {
        "colab": {
          "base_uri": "https://localhost:8080/"
        },
        "id": "4rvCXkHbVu9U",
        "outputId": "b04282ea-966f-4395-b42e-588af98984e5"
      },
      "source": [
        "#shuffle train and test\n",
        "X, y = shuffle(images, labelImages)\n",
        "\n",
        "#split train and test data\n",
        "x_train, x_test, y_train, y_test = train_test_split(X, y, test_size = 0.1)\n",
        "\n",
        "print(len(X))"
      ],
      "execution_count": null,
      "outputs": [
        {
          "output_type": "stream",
          "text": [
            "2641\n"
          ],
          "name": "stdout"
        }
      ]
    },
    {
      "cell_type": "markdown",
      "metadata": {
        "id": "wf9CedWoMVzQ"
      },
      "source": [
        "\n",
        "#### **Apply LDA to Dataset.** "
      ]
    },
    {
      "cell_type": "code",
      "metadata": {
        "id": "qpM_R83d1rMu"
      },
      "source": [
        "from sklearn.discriminant_analysis import LinearDiscriminantAnalysis as LDA\n",
        "\n",
        "lda = LDA(n_components=1)\n",
        "x_train = lda.fit_transform(x_train, y_train)\n",
        "x_test = lda.transform(x_test)"
      ],
      "execution_count": null,
      "outputs": []
    },
    {
      "cell_type": "markdown",
      "metadata": {
        "id": "Eq3tF6eOR1jS"
      },
      "source": [
        "\n",
        "#### **Apply PCA to Dataset.** \n"
      ]
    },
    {
      "cell_type": "code",
      "metadata": {
        "colab": {
          "base_uri": "https://localhost:8080/"
        },
        "id": "kW8M20hy2NOP",
        "outputId": "44a5a286-d073-4d50-8131-3e899b51a873"
      },
      "source": [
        "pca = PCA(n_components=30)\n",
        "x_train = pca.fit_transform(x_train)\n",
        "x_test = pca.transform(x_test)\n",
        "print(x_train.shape)"
      ],
      "execution_count": null,
      "outputs": [
        {
          "output_type": "stream",
          "text": [
            "(2379, 30)\n"
          ],
          "name": "stdout"
        }
      ]
    },
    {
      "cell_type": "code",
      "metadata": {
        "id": "BoMCRoxSMTIA"
      },
      "source": [
        "import numpy as np\n",
        " \n",
        "def PCAX(X , num_components):\n",
        "     \n",
        "    #Step-1\n",
        "    X_meaned = X - np.mean(X , axis = 0)\n",
        "     \n",
        "    #Step-2\n",
        "    cov_mat = np.cov(X_meaned , rowvar = False)\n",
        "     \n",
        "    #Step-3\n",
        "    eigen_values , eigen_vectors = np.linalg.eigh(cov_mat)\n",
        "     \n",
        "    #Step-4\n",
        "    sorted_index = np.argsort(eigen_values)[::-1]\n",
        "    sorted_eigenvalue = eigen_values[sorted_index]\n",
        "    sorted_eigenvectors = eigen_vectors[:,sorted_index]\n",
        "     \n",
        "    #Step-5\n",
        "    eigenvector_subset = sorted_eigenvectors[:,0:num_components]\n",
        "     \n",
        "    #Step-6\n",
        "    X_reduced = np.dot(eigenvector_subset.transpose() , X_meaned.transpose() ).transpose()\n",
        "     \n",
        "    return X_reduced\n",
        "\n",
        "XTR=PCAX(x_train , 50)\n",
        "XTE=PCAX(x_test , 50)"
      ],
      "execution_count": null,
      "outputs": []
    },
    {
      "cell_type": "markdown",
      "metadata": {
        "id": "eQ1Piz8rj_le"
      },
      "source": [
        "#### **Train your SVM using the positive and negative cases.** "
      ]
    },
    {
      "cell_type": "code",
      "metadata": {
        "colab": {
          "base_uri": "https://localhost:8080/",
          "height": 312
        },
        "id": "2XSXKp_6mMSZ",
        "outputId": "020989af-6a64-4807-b06d-b1b1f302118a"
      },
      "source": [
        "svmclf_lin = svm.SVC(decision_function_shape='ovo',kernel='linear',probability=True) # Linear Kernel\n",
        "\n",
        "#Train the model using the training sets\n",
        "svmclf_lin.fit(x_train,y_train)\n",
        "\n",
        "cv_scores = cross_val_score(svmclf_lin,x_train,y_train, cv=5)\n",
        "\n",
        "\n",
        "print(cv_scores)\n",
        "\n",
        "\n",
        "# predict probabilities for X_test using predict_proba\n",
        "probabilities = svmclf_lin.predict_proba(x_test)\n",
        "\n",
        "# select the probabilities for label 1.0\n",
        "y_proba = probabilities[:, 1]\n",
        "\n",
        "# calculate false positive rate and true positive rate at different thresholds\n",
        "false_positive_rate, true_positive_rate, thresholds = roc_curve(y_test, y_proba, pos_label=1)\n",
        "\n",
        "# calculate AUC\n",
        "roc_auc = auc(false_positive_rate, true_positive_rate)\n",
        "\n",
        "plt.title('Receiver Operating Characteristic')\n",
        "# plot the false positive rate on the x axis and the true positive rate on the y axis\n",
        "roc_plot = plt.plot(false_positive_rate,\n",
        "                    true_positive_rate,\n",
        "                    label='AUC = {:0.2f}'.format(roc_auc))\n",
        "\n",
        "plt.legend(loc=0)\n",
        "plt.plot([0,1], [0,1], ls='--')\n",
        "plt.ylabel('True Positive Rate')\n",
        "plt.xlabel('False Positive Rate');\n"
      ],
      "execution_count": null,
      "outputs": [
        {
          "output_type": "stream",
          "text": [
            "[0.81092437 0.78315789 0.77894737 0.76631579 0.78105263]\n"
          ],
          "name": "stdout"
        },
        {
          "output_type": "display_data",
          "data": {
            "image/png": "[encoded data removed]",
            "text/plain": [
              "<Figure size 432x288 with 1 Axes>"
            ]
          },
          "metadata": {
            "tags": [],
            "needs_background": "light"
          }
        }
      ]
    },
    {
      "cell_type": "code",
      "metadata": {
        "colab": {
          "base_uri": "https://localhost:8080/"
        },
        "id": "lf5-bcQ0KJFF",
        "outputId": "1743af2d-6d07-4b76-8ed5-d722cdc3f174"
      },
      "source": [
        "svmclf_lin"
      ],
      "execution_count": null,
      "outputs": [
        {
          "output_type": "execute_result",
          "data": {
            "text/plain": [
              "SVC(C=1.0, break_ties=False, cache_size=200, class_weight=None, coef0=0.0,\n",
              "    decision_function_shape='ovo', degree=3, gamma='scale', kernel='linear',\n",
              "    max_iter=-1, probability=True, random_state=None, shrinking=True, tol=0.001,\n",
              "    verbose=False)"
            ]
          },
          "metadata": {
            "tags": []
          },
          "execution_count": 11
        }
      ]
    },
    {
      "cell_type": "code",
      "metadata": {
        "colab": {
          "base_uri": "https://localhost:8080/"
        },
        "id": "JGl7rs2W6BXP",
        "outputId": "07728deb-c249-4ee6-bd86-f124c9dcb549"
      },
      "source": [
        "from sklearn import metrics\n",
        "# Model Accuracy, how often is the classifier correct?\n",
        "\n",
        "from sklearn.ensemble import RandomForestClassifier\n",
        "\n",
        "#Create a Gaussian Classifier\n",
        "clf=RandomForestClassifier(n_estimators=100)\n",
        "\n",
        "#Train the model using the training sets y_pred=clf.predict(X_test)\n",
        "clf.fit(x_train,y_train)\n",
        "\n",
        "y_pred=clf.predict(x_test)\n",
        "print(\"Accuracy:\",metrics.accuracy_score(y_test, y_pred))"
      ],
      "execution_count": null,
      "outputs": [
        {
          "output_type": "stream",
          "text": [
            "Accuracy: 0.6792452830188679\n"
          ],
          "name": "stdout"
        }
      ]
    },
    {
      "cell_type": "code",
      "metadata": {
        "colab": {
          "base_uri": "https://localhost:8080/",
          "height": 294
        },
        "id": "EHRbYQI4djHp",
        "outputId": "66b33383-bbe5-4e22-eee3-a80d597a2e6c"
      },
      "source": [
        "from sklearn.cluster import KMeans\n",
        "\n",
        "Error =[]\n",
        "for i in range(40, 80):\n",
        "    kmeans = KMeans(n_clusters = i,max_iter=200).fit(x_train)\n",
        "    Error.append(kmeans.inertia_)\n",
        "import matplotlib.pyplot as plt\n",
        "plt.plot(range(20, 60), Error)\n",
        "plt.title('Elbow method')\n",
        "plt.xlabel('Number of clusters')\n",
        "plt.ylabel('Error')\n",
        "plt.show()"
      ],
      "execution_count": null,
      "outputs": [
        {
          "output_type": "display_data",
          "data": {
            "image/png": "[encoded data removed]",
            "text/plain": [
              "<Figure size 432x288 with 1 Axes>"
            ]
          },
          "metadata": {
            "tags": [],
            "needs_background": "light"
          }
        }
      ]
    },
    {
      "cell_type": "code",
      "metadata": {
        "colab": {
          "base_uri": "https://localhost:8080/"
        },
        "id": "uWLIX-h_k1MZ",
        "outputId": "af23e66e-4366-4b4b-fd9d-7cf0ae646a69"
      },
      "source": [
        "from sklearn.neighbors import KNeighborsClassifier\n",
        "\n",
        "classifier = KNeighborsClassifier(n_neighbors=5)\n",
        "classifier.fit(x_train, y_train)\n",
        "y_pred = classifier.predict(x_test)\n",
        "from sklearn import metrics\n",
        "print('Result of K-NN as accuracy is: %s' % metrics.accuracy_score(y_test, y_pred))"
      ],
      "execution_count": null,
      "outputs": [
        {
          "output_type": "stream",
          "text": [
            "Result of K-NN as accuracy is: 0.6641509433962264\n"
          ],
          "name": "stdout"
        }
      ]
    },
    {
      "cell_type": "code",
      "metadata": {
        "colab": {
          "base_uri": "https://localhost:8080/",
          "height": 50
        },
        "id": "vCqMbtBvgrQg",
        "outputId": "dea2e723-c864-45bc-c145-920617c61ea4"
      },
      "source": [
        "resized = imageList[79]\n",
        "cv2_imshow(resized)\n",
        "sobelx64f = cv2.Sobel(resized,cv2.CV_64F,1,0,ksize=5)\n",
        "abs_sobel64f = np.absolute(sobelx64f)\n",
        "sobel_8u = np.uint8(abs_sobel64f)\n",
        "cv2_imshow(sobel_8u)"
      ],
      "execution_count": null,
      "outputs": [
        {
          "output_type": "display_data",
          "data": {
            "image/png": "[encoded data removed]",
            "text/plain": [
              "<PIL.Image.Image image mode=RGB size=10x10 at 0x7F9FD4431B00>"
            ]
          },
          "metadata": {
            "tags": []
          }
        },
        {
          "output_type": "display_data",
          "data": {
            "image/png": "[encoded data removed]",
            "text/plain": [
              "<PIL.Image.Image image mode=RGB size=10x10 at 0x7F9FD4431588>"
            ]
          },
          "metadata": {
            "tags": []
          }
        }
      ]
    },
    {
      "cell_type": "code",
      "metadata": {
        "colab": {
          "base_uri": "https://localhost:8080/",
          "height": 50
        },
        "id": "irThH8T_7TOQ",
        "outputId": "1e97c000-f41a-4c1f-f938-b9ad7b1ab3c3"
      },
      "source": [
        "resized = imageList[649]\n",
        "cv2_imshow(resized)\n",
        "sobelx64f = cv2.Sobel(resized,cv2.CV_64F,1,0,ksize=5)\n",
        "abs_sobel64f = np.absolute(sobelx64f)\n",
        "sobel_8u = np.uint8(abs_sobel64f)\n",
        "cv2_imshow(sobel_8u)"
      ],
      "execution_count": null,
      "outputs": [
        {
          "output_type": "display_data",
          "data": {
            "image/png": "[encoded data removed]",
            "text/plain": [
              "<PIL.Image.Image image mode=RGB size=10x10 at 0x7F9FD44315C0>"
            ]
          },
          "metadata": {
            "tags": []
          }
        },
        {
          "output_type": "display_data",
          "data": {
            "image/png": "[encoded data removed]",
            "text/plain": [
              "<PIL.Image.Image image mode=RGB size=10x10 at 0x7F9FD4431B00>"
            ]
          },
          "metadata": {
            "tags": []
          }
        }
      ]
    }
  ]
}